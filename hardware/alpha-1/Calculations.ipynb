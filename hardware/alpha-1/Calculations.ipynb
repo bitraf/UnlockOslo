{
 "cells": [
  {
   "cell_type": "code",
   "execution_count": 1,
   "metadata": {},
   "outputs": [],
   "source": [
    "from IPython.display import display, Markdown, Latex\n",
    "import os\n",
    "import os.path\n",
    "import pandas\n",
    "import functools\n",
    "\n",
    "from ee import EeVal\n",
    "from ee.formatting import e12, e24\n",
    "#from ee.kicad.bom.io import read_bom\n",
    "from ee.kicad import read_schematic, read_schematics, to_pandas\n",
    "\n",
    "%load_ext autoreload\n",
    "%autoreload 2\n"
   ]
  },
  {
   "cell_type": "code",
   "execution_count": 2,
   "metadata": {},
   "outputs": [],
   "source": [
    "bom_file = \"alpha.sch\"\n",
    "components = to_pandas(read_schematics(bom_file))"
   ]
  },
  {
   "cell_type": "markdown",
   "metadata": {},
   "source": [
    "### LED resistors"
   ]
  },
  {
   "cell_type": "code",
   "execution_count": 3,
   "metadata": {},
   "outputs": [
    {
     "data": {
      "text/markdown": [
       "#### LED D2"
      ],
      "text/plain": [
       "<IPython.core.display.Markdown object>"
      ]
     },
     "metadata": {},
     "output_type": "display_data"
    },
    {
     "data": {
      "text/latex": [
       "\n",
       "$$\n",
       "\\begin{align}\n",
       "V_{forward} &= 1.9V \\\\\n",
       "I             &= 5 mA \\\\\n",
       "R_{exact}   &= 280.0 \\Omega \\\\\n",
       "\\\\\n",
       "R_{e12}     &= 270.0 \\Omega \\\\\n",
       "I_{LED}     &= 5.19 m A\n",
       "\\end{align}\n",
       "$$\n"
      ],
      "text/plain": [
       "<IPython.core.display.Latex object>"
      ]
     },
     "metadata": {},
     "output_type": "display_data"
    },
    {
     "data": {
      "text/markdown": [
       "#### LED D4"
      ],
      "text/plain": [
       "<IPython.core.display.Markdown object>"
      ]
     },
     "metadata": {},
     "output_type": "display_data"
    },
    {
     "data": {
      "text/latex": [
       "\n",
       "$$\n",
       "\\begin{align}\n",
       "V_{forward} &= 1.9V \\\\\n",
       "I             &= 5 mA \\\\\n",
       "R_{exact}   &= 280.0 \\Omega \\\\\n",
       "\\\\\n",
       "R_{e12}     &= 270.0 \\Omega \\\\\n",
       "I_{LED}     &= 5.19 m A\n",
       "\\end{align}\n",
       "$$\n"
      ],
      "text/plain": [
       "<IPython.core.display.Latex object>"
      ]
     },
     "metadata": {},
     "output_type": "display_data"
    },
    {
     "data": {
      "text/markdown": [
       "#### LED D6"
      ],
      "text/plain": [
       "<IPython.core.display.Markdown object>"
      ]
     },
     "metadata": {},
     "output_type": "display_data"
    },
    {
     "data": {
      "text/latex": [
       "\n",
       "$$\n",
       "\\begin{align}\n",
       "V_{forward} &= 1.9V \\\\\n",
       "I             &= 5 mA \\\\\n",
       "R_{exact}   &= 280.0 \\Omega \\\\\n",
       "\\\\\n",
       "R_{e12}     &= 270.0 \\Omega \\\\\n",
       "I_{LED}     &= 5.19 m A\n",
       "\\end{align}\n",
       "$$\n"
      ],
      "text/plain": [
       "<IPython.core.display.Latex object>"
      ]
     },
     "metadata": {},
     "output_type": "display_data"
    },
    {
     "data": {
      "text/markdown": [
       "#### LED D8"
      ],
      "text/plain": [
       "<IPython.core.display.Markdown object>"
      ]
     },
     "metadata": {},
     "output_type": "display_data"
    },
    {
     "data": {
      "text/latex": [
       "\n",
       "$$\n",
       "\\begin{align}\n",
       "V_{forward} &= 1.9V \\\\\n",
       "I             &= 5 mA \\\\\n",
       "R_{exact}   &= 280.0 \\Omega \\\\\n",
       "\\\\\n",
       "R_{e12}     &= 270.0 \\Omega \\\\\n",
       "I_{LED}     &= 5.19 m A\n",
       "\\end{align}\n",
       "$$\n"
      ],
      "text/plain": [
       "<IPython.core.display.Latex object>"
      ]
     },
     "metadata": {},
     "output_type": "display_data"
    },
    {
     "data": {
      "text/markdown": [
       "#### LED D10"
      ],
      "text/plain": [
       "<IPython.core.display.Markdown object>"
      ]
     },
     "metadata": {},
     "output_type": "display_data"
    },
    {
     "data": {
      "text/latex": [
       "\n",
       "$$\n",
       "\\begin{align}\n",
       "V_{forward} &= 1.9V \\\\\n",
       "I             &= 5 mA \\\\\n",
       "R_{exact}   &= 280.0 \\Omega \\\\\n",
       "\\\\\n",
       "R_{e12}     &= 270.0 \\Omega \\\\\n",
       "I_{LED}     &= 5.19 m A\n",
       "\\end{align}\n",
       "$$\n"
      ],
      "text/plain": [
       "<IPython.core.display.Latex object>"
      ]
     },
     "metadata": {},
     "output_type": "display_data"
    },
    {
     "data": {
      "text/markdown": [
       "#### LED D12"
      ],
      "text/plain": [
       "<IPython.core.display.Markdown object>"
      ]
     },
     "metadata": {},
     "output_type": "display_data"
    },
    {
     "data": {
      "text/latex": [
       "\n",
       "$$\n",
       "\\begin{align}\n",
       "V_{forward} &= 1.9V \\\\\n",
       "I             &= 5 mA \\\\\n",
       "R_{exact}   &= 280.0 \\Omega \\\\\n",
       "\\\\\n",
       "R_{e12}     &= 270.0 \\Omega \\\\\n",
       "I_{LED}     &= 5.19 m A\n",
       "\\end{align}\n",
       "$$\n"
      ],
      "text/plain": [
       "<IPython.core.display.Latex object>"
      ]
     },
     "metadata": {},
     "output_type": "display_data"
    },
    {
     "data": {
      "text/markdown": [
       "#### LED D21"
      ],
      "text/plain": [
       "<IPython.core.display.Markdown object>"
      ]
     },
     "metadata": {},
     "output_type": "display_data"
    },
    {
     "data": {
      "text/latex": [
       "\n",
       "$$\n",
       "\\begin{align}\n",
       "V_{forward} &= 2.0 V \\\\\n",
       "I             &= 5 mA \\\\\n",
       "R_{exact}   &= 600.0 \\Omega \\\\\n",
       "\\\\\n",
       "R_{e12}     &= 560.0 \\Omega \\\\\n",
       "I_{LED}     &= 5.36 m A\n",
       "\\end{align}\n",
       "$$\n"
      ],
      "text/plain": [
       "<IPython.core.display.Latex object>"
      ]
     },
     "metadata": {},
     "output_type": "display_data"
    },
    {
     "data": {
      "text/markdown": [
       "#### LED D22"
      ],
      "text/plain": [
       "<IPython.core.display.Markdown object>"
      ]
     },
     "metadata": {},
     "output_type": "display_data"
    },
    {
     "data": {
      "text/latex": [
       "\n",
       "$$\n",
       "\\begin{align}\n",
       "V_{forward} &= 2.0 V \\\\\n",
       "I             &= 5 mA \\\\\n",
       "R_{exact}   &= 600.0 \\Omega \\\\\n",
       "\\\\\n",
       "R_{e12}     &= 560.0 \\Omega \\\\\n",
       "I_{LED}     &= 5.36 m A\n",
       "\\end{align}\n",
       "$$\n"
      ],
      "text/plain": [
       "<IPython.core.display.Latex object>"
      ]
     },
     "metadata": {},
     "output_type": "display_data"
    },
    {
     "data": {
      "text/markdown": [
       "#### LED D23"
      ],
      "text/plain": [
       "<IPython.core.display.Markdown object>"
      ]
     },
     "metadata": {},
     "output_type": "display_data"
    },
    {
     "data": {
      "text/latex": [
       "\n",
       "$$\n",
       "\\begin{align}\n",
       "V_{forward} &= 2.0 V \\\\\n",
       "I             &= 5 mA \\\\\n",
       "R_{exact}   &= 600.0 \\Omega \\\\\n",
       "\\\\\n",
       "R_{e12}     &= 560.0 \\Omega \\\\\n",
       "I_{LED}     &= 5.36 m A\n",
       "\\end{align}\n",
       "$$\n"
      ],
      "text/plain": [
       "<IPython.core.display.Latex object>"
      ]
     },
     "metadata": {},
     "output_type": "display_data"
    }
   ],
   "source": [
    "leds = components[components.role == \"LED\"]\n",
    "\n",
    "def resistance(led):\n",
    "    i_target = EeVal(led.req_I).value\n",
    "    v_resistor = EeVal(led.req_Vin).value - EeVal(led.req_Vf).value\n",
    "    r_exact = v_resistor/i_target\n",
    "    r = e12.closest(r_exact)\n",
    "    i_exact = EeVal(\"{} A\".format(v_resistor/r))\n",
    "    return pandas.Series({\"r\": r, \"r_exact\": r_exact, \"i\": i_exact})\n",
    "\n",
    "resistances = leds.apply(resistance, axis='columns', reduce=False)\n",
    "\n",
    "for ref, led in leds.join(resistances).iterrows():\n",
    "    display(Markdown(\"#### LED {}\".format(ref)))\n",
    "    display(Latex(\"\"\"\n",
    "$$\n",
    "\\\\begin{{align}}\n",
    "V_{{forward}} &= {} \\\\\\\\\n",
    "I             &= {} \\\\\\\\\n",
    "R_{{exact}}   &= {} \\Omega \\\\\\\\\n",
    "\\\\\\\\\n",
    "R_{{e12}}     &= {} \\Omega \\\\\\\\\n",
    "I_{{LED}}     &= {} A\n",
    "\\\\end{{align}}\n",
    "$$\n",
    "\"\"\".format(led.req_Vf, led.req_I, led.r_exact, led.r, led.i)))"
   ]
  },
  {
   "cell_type": "code",
   "execution_count": 4,
   "metadata": {},
   "outputs": [],
   "source": [
    "components = components.join(resistances)"
   ]
  },
  {
   "cell_type": "code",
   "execution_count": 5,
   "metadata": {},
   "outputs": [
    {
     "data": {
      "text/html": [
       "<div>\n",
       "<style scoped>\n",
       "    .dataframe tbody tr th:only-of-type {\n",
       "        vertical-align: middle;\n",
       "    }\n",
       "\n",
       "    .dataframe tbody tr th {\n",
       "        vertical-align: top;\n",
       "    }\n",
       "\n",
       "    .dataframe thead th {\n",
       "        text-align: right;\n",
       "    }\n",
       "</style>\n",
       "<table border=\"1\" class=\"dataframe\">\n",
       "  <thead>\n",
       "    <tr style=\"text-align: right;\">\n",
       "      <th></th>\n",
       "      <th>value</th>\n",
       "    </tr>\n",
       "    <tr>\n",
       "      <th>ref</th>\n",
       "      <th></th>\n",
       "    </tr>\n",
       "  </thead>\n",
       "  <tbody>\n",
       "    <tr>\n",
       "      <th>R21</th>\n",
       "      <td>100k</td>\n",
       "    </tr>\n",
       "    <tr>\n",
       "      <th>R1</th>\n",
       "      <td>10k</td>\n",
       "    </tr>\n",
       "    <tr>\n",
       "      <th>R20</th>\n",
       "      <td>10k</td>\n",
       "    </tr>\n",
       "    <tr>\n",
       "      <th>R19</th>\n",
       "      <td>10k</td>\n",
       "    </tr>\n",
       "    <tr>\n",
       "      <th>R18</th>\n",
       "      <td>10k</td>\n",
       "    </tr>\n",
       "    <tr>\n",
       "      <th>R17</th>\n",
       "      <td>10k</td>\n",
       "    </tr>\n",
       "    <tr>\n",
       "      <th>R16</th>\n",
       "      <td>10k</td>\n",
       "    </tr>\n",
       "    <tr>\n",
       "      <th>R15</th>\n",
       "      <td>10k</td>\n",
       "    </tr>\n",
       "    <tr>\n",
       "      <th>R13</th>\n",
       "      <td>10k</td>\n",
       "    </tr>\n",
       "    <tr>\n",
       "      <th>R11</th>\n",
       "      <td>10k</td>\n",
       "    </tr>\n",
       "    <tr>\n",
       "      <th>R14</th>\n",
       "      <td>10k</td>\n",
       "    </tr>\n",
       "    <tr>\n",
       "      <th>R3</th>\n",
       "      <td>10k</td>\n",
       "    </tr>\n",
       "    <tr>\n",
       "      <th>R9</th>\n",
       "      <td>10k</td>\n",
       "    </tr>\n",
       "    <tr>\n",
       "      <th>R7</th>\n",
       "      <td>10k</td>\n",
       "    </tr>\n",
       "    <tr>\n",
       "      <th>R5</th>\n",
       "      <td>10k</td>\n",
       "    </tr>\n",
       "    <tr>\n",
       "      <th>R22</th>\n",
       "      <td>13.3k</td>\n",
       "    </tr>\n",
       "    <tr>\n",
       "      <th>R2</th>\n",
       "      <td>270</td>\n",
       "    </tr>\n",
       "    <tr>\n",
       "      <th>R10</th>\n",
       "      <td>270</td>\n",
       "    </tr>\n",
       "    <tr>\n",
       "      <th>R12</th>\n",
       "      <td>270</td>\n",
       "    </tr>\n",
       "    <tr>\n",
       "      <th>R6</th>\n",
       "      <td>270</td>\n",
       "    </tr>\n",
       "    <tr>\n",
       "      <th>R8</th>\n",
       "      <td>270</td>\n",
       "    </tr>\n",
       "    <tr>\n",
       "      <th>R4</th>\n",
       "      <td>270</td>\n",
       "    </tr>\n",
       "    <tr>\n",
       "      <th>R27</th>\n",
       "      <td>560</td>\n",
       "    </tr>\n",
       "    <tr>\n",
       "      <th>R23</th>\n",
       "      <td>560</td>\n",
       "    </tr>\n",
       "    <tr>\n",
       "      <th>R28</th>\n",
       "      <td>560</td>\n",
       "    </tr>\n",
       "    <tr>\n",
       "      <th>R24</th>\n",
       "      <td>R</td>\n",
       "    </tr>\n",
       "    <tr>\n",
       "      <th>R25</th>\n",
       "      <td>R</td>\n",
       "    </tr>\n",
       "    <tr>\n",
       "      <th>R26</th>\n",
       "      <td>R</td>\n",
       "    </tr>\n",
       "  </tbody>\n",
       "</table>\n",
       "</div>"
      ],
      "text/plain": [
       "     value\n",
       "ref       \n",
       "R21   100k\n",
       "R1     10k\n",
       "R20    10k\n",
       "R19    10k\n",
       "R18    10k\n",
       "R17    10k\n",
       "R16    10k\n",
       "R15    10k\n",
       "R13    10k\n",
       "R11    10k\n",
       "R14    10k\n",
       "R3     10k\n",
       "R9     10k\n",
       "R7     10k\n",
       "R5     10k\n",
       "R22  13.3k\n",
       "R2     270\n",
       "R10    270\n",
       "R12    270\n",
       "R6     270\n",
       "R8     270\n",
       "R4     270\n",
       "R27    560\n",
       "R23    560\n",
       "R28    560\n",
       "R24      R\n",
       "R25      R\n",
       "R26      R"
      ]
     },
     "execution_count": 5,
     "metadata": {},
     "output_type": "execute_result"
    }
   ],
   "source": [
    "components[components.ref_type == \"R\"][[\"value\"]] \\\n",
    "    .sort_values(\"value\")"
   ]
  }
 ],
 "metadata": {
  "kernelspec": {
   "display_name": "Python 3",
   "language": "python",
   "name": "python3"
  },
  "language_info": {
   "codemirror_mode": {
    "name": "ipython",
    "version": 3
   },
   "file_extension": ".py",
   "mimetype": "text/x-python",
   "name": "python",
   "nbconvert_exporter": "python",
   "pygments_lexer": "ipython3",
   "version": "3.6.3"
  }
 },
 "nbformat": 4,
 "nbformat_minor": 2
}
