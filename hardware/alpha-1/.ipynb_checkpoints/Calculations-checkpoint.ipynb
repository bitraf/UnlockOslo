{
 "cells": [
  {
   "cell_type": "code",
   "execution_count": 83,
   "metadata": {},
   "outputs": [
    {
     "name": "stdout",
     "output_type": "stream",
     "text": [
      "The autoreload extension is already loaded. To reload it, use:\n",
      "  %reload_ext autoreload\n"
     ]
    }
   ],
   "source": [
    "from IPython.display import display, Markdown, Latex\n",
    "import os\n",
    "import os.path\n",
    "import pandas\n",
    "import functools\n",
    "\n",
    "from ee import EeVal\n",
    "from ee.formatting import e12, e24\n",
    "#from ee.kicad.bom.io import read_bom\n",
    "from ee.kicad import read_schematic, read_schematics, to_pandas\n",
    "\n",
    "%load_ext autoreload\n",
    "%autoreload 2\n"
   ]
  },
  {
   "cell_type": "code",
   "execution_count": 96,
   "metadata": {},
   "outputs": [],
   "source": [
    "bom_file = \"alpha.sch\"\n",
    "components = to_pandas(read_schematics(bom_file))"
   ]
  },
  {
   "cell_type": "markdown",
   "metadata": {},
   "source": [
    "### LED resistors"
   ]
  },
  {
   "cell_type": "code",
   "execution_count": 134,
   "metadata": {},
   "outputs": [
    {
     "data": {
      "text/markdown": [
       "#### LED D2"
      ],
      "text/plain": [
       "<IPython.core.display.Markdown object>"
      ]
     },
     "metadata": {},
     "output_type": "display_data"
    },
    {
     "data": {
      "text/latex": [
       "\n",
       "$$\n",
       "\\begin{align}\n",
       "V_{forward} &= 1.9V \\\\\n",
       "I             &= 5 mA \\\\\n",
       "R_{exact}   &= 280.0 \\Omega \\\\\n",
       "\\\\\n",
       "R_{e12}     &= 270.0 \\Omega \\\\\n",
       "I_{LED}     &= 5.19 m A\n",
       "\\end{align}\n",
       "$$\n"
      ],
      "text/plain": [
       "<IPython.core.display.Latex object>"
      ]
     },
     "metadata": {},
     "output_type": "display_data"
    },
    {
     "data": {
      "text/markdown": [
       "#### LED D4"
      ],
      "text/plain": [
       "<IPython.core.display.Markdown object>"
      ]
     },
     "metadata": {},
     "output_type": "display_data"
    },
    {
     "data": {
      "text/latex": [
       "\n",
       "$$\n",
       "\\begin{align}\n",
       "V_{forward} &= 1.9V \\\\\n",
       "I             &= 5 mA \\\\\n",
       "R_{exact}   &= 280.0 \\Omega \\\\\n",
       "\\\\\n",
       "R_{e12}     &= 270.0 \\Omega \\\\\n",
       "I_{LED}     &= 5.19 m A\n",
       "\\end{align}\n",
       "$$\n"
      ],
      "text/plain": [
       "<IPython.core.display.Latex object>"
      ]
     },
     "metadata": {},
     "output_type": "display_data"
    }
   ],
   "source": [
    "leds = components[components.role == \"LED\"]\n",
    "\n",
    "def resistance(led):\n",
    "    i_target = EeVal(led.req_I).value\n",
    "    v_resistor = EeVal(led.gpio_voltage).value - EeVal(led.req_Vf).value\n",
    "    r_exact = v_resistor/i_target\n",
    "    r = e12.closest(r_exact)\n",
    "    i_exact = EeVal(\"{} A\".format(v_resistor/r))\n",
    "    return pandas.Series({\"r\": r, \"r_exact\": r_exact, \"i\": i_exact})\n",
    "\n",
    "resistances = leds.apply(resistance, axis='columns', reduce=False)\n",
    "\n",
    "for ref, led in leds.join(resistances).iterrows():\n",
    "    display(Markdown(\"#### LED {}\".format(ref)))\n",
    "    display(Latex(\"\"\"\n",
    "$$\n",
    "\\\\begin{{align}}\n",
    "V_{{forward}} &= {} \\\\\\\\\n",
    "I             &= {} \\\\\\\\\n",
    "R_{{exact}}   &= {} \\Omega \\\\\\\\\n",
    "\\\\\\\\\n",
    "R_{{e12}}     &= {} \\Omega \\\\\\\\\n",
    "I_{{LED}}     &= {} A\n",
    "\\\\end{{align}}\n",
    "$$\n",
    "\"\"\".format(led.req_Vf, led.req_I, led.r_exact, led.r, led.i)))"
   ]
  },
  {
   "cell_type": "code",
   "execution_count": null,
   "metadata": {},
   "outputs": [],
   "source": [
    "components = components.join(resistances)"
   ]
  }
 ],
 "metadata": {
  "kernelspec": {
   "display_name": "Python 3",
   "language": "python",
   "name": "python3"
  },
  "language_info": {
   "codemirror_mode": {
    "name": "ipython",
    "version": 3
   },
   "file_extension": ".py",
   "mimetype": "text/x-python",
   "name": "python",
   "nbconvert_exporter": "python",
   "pygments_lexer": "ipython3",
   "version": "3.6.3"
  }
 },
 "nbformat": 4,
 "nbformat_minor": 2
}
